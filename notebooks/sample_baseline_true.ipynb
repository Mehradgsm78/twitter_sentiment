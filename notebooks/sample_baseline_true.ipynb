{
 "cells": [
  {
   "cell_type": "code",
   "execution_count": 1,
   "id": "3b8d1581",
   "metadata": {},
   "outputs": [],
   "source": [
    "from textblob import TextBlob"
   ]
  },
  {
   "cell_type": "code",
   "execution_count": 2,
   "id": "8109d877",
   "metadata": {},
   "outputs": [],
   "source": [
    "import numpy as np\n",
    "import pandas as pd\n",
    "from sklearn.metrics import classification_report"
   ]
  },
  {
   "cell_type": "code",
   "execution_count": 3,
   "id": "c8cf090f",
   "metadata": {},
   "outputs": [],
   "source": [
    "dev_data = np.load(\"/Users/mehradghassemi/twitter_sentiment/data/interim/dev_data.npy\", allow_pickle=True)"
   ]
  },
  {
   "cell_type": "code",
   "execution_count": 4,
   "id": "42357154",
   "metadata": {},
   "outputs": [
    {
     "data": {
      "text/plain": [
       "array([567729749087498240, 'negative', 1.0, 'Lost Luggage', 1.0,\n",
       "       'US Airways', nan, 'itsjustdoc', nan, 0,\n",
       "       \"@USAirways I didn't even leave the airport and you sent 2 of my bags to Philadelphia!\",\n",
       "       nan, '2015-02-17 08:58:14 -0800', 'Ohio', 'Quito'], dtype=object)"
      ]
     },
     "execution_count": 4,
     "metadata": {},
     "output_type": "execute_result"
    }
   ],
   "source": [
    "dev_data[0]"
   ]
  },
  {
   "cell_type": "code",
   "execution_count": 5,
   "id": "288e960d",
   "metadata": {},
   "outputs": [],
   "source": [
    "df = pd.read_csv(\"/Users/mehradghassemi/twitter_sentiment/data/raw/Tweets.csv\")"
   ]
  },
  {
   "cell_type": "code",
   "execution_count": 6,
   "id": "15fd9a1b",
   "metadata": {},
   "outputs": [],
   "source": [
    "columns = df.columns"
   ]
  },
  {
   "cell_type": "code",
   "execution_count": 7,
   "id": "a7a51662",
   "metadata": {},
   "outputs": [
    {
     "data": {
      "text/plain": [
       "Index(['tweet_id', 'airline_sentiment', 'airline_sentiment_confidence',\n",
       "       'negativereason', 'negativereason_confidence', 'airline',\n",
       "       'airline_sentiment_gold', 'name', 'negativereason_gold',\n",
       "       'retweet_count', 'text', 'tweet_coord', 'tweet_created',\n",
       "       'tweet_location', 'user_timezone'],\n",
       "      dtype='object')"
      ]
     },
     "execution_count": 7,
     "metadata": {},
     "output_type": "execute_result"
    }
   ],
   "source": [
    "columns"
   ]
  },
  {
   "cell_type": "code",
   "execution_count": 8,
   "id": "dcb45256",
   "metadata": {},
   "outputs": [],
   "source": [
    "dev_df = pd.DataFrame(dev_data, columns=columns)"
   ]
  },
  {
   "cell_type": "code",
   "execution_count": 9,
   "id": "0f0cc95b",
   "metadata": {},
   "outputs": [
    {
     "data": {
      "text/html": [
       "<div>\n",
       "<style scoped>\n",
       "    .dataframe tbody tr th:only-of-type {\n",
       "        vertical-align: middle;\n",
       "    }\n",
       "\n",
       "    .dataframe tbody tr th {\n",
       "        vertical-align: top;\n",
       "    }\n",
       "\n",
       "    .dataframe thead th {\n",
       "        text-align: right;\n",
       "    }\n",
       "</style>\n",
       "<table border=\"1\" class=\"dataframe\">\n",
       "  <thead>\n",
       "    <tr style=\"text-align: right;\">\n",
       "      <th></th>\n",
       "      <th>tweet_id</th>\n",
       "      <th>airline_sentiment</th>\n",
       "      <th>airline_sentiment_confidence</th>\n",
       "      <th>negativereason</th>\n",
       "      <th>negativereason_confidence</th>\n",
       "      <th>airline</th>\n",
       "      <th>airline_sentiment_gold</th>\n",
       "      <th>name</th>\n",
       "      <th>negativereason_gold</th>\n",
       "      <th>retweet_count</th>\n",
       "      <th>text</th>\n",
       "      <th>tweet_coord</th>\n",
       "      <th>tweet_created</th>\n",
       "      <th>tweet_location</th>\n",
       "      <th>user_timezone</th>\n",
       "    </tr>\n",
       "  </thead>\n",
       "  <tbody>\n",
       "    <tr>\n",
       "      <th>0</th>\n",
       "      <td>567729749087498240</td>\n",
       "      <td>negative</td>\n",
       "      <td>1.0</td>\n",
       "      <td>Lost Luggage</td>\n",
       "      <td>1.0</td>\n",
       "      <td>US Airways</td>\n",
       "      <td>NaN</td>\n",
       "      <td>itsjustdoc</td>\n",
       "      <td>NaN</td>\n",
       "      <td>0</td>\n",
       "      <td>@USAirways I didn't even leave the airport and...</td>\n",
       "      <td>NaN</td>\n",
       "      <td>2015-02-17 08:58:14 -0800</td>\n",
       "      <td>Ohio</td>\n",
       "      <td>Quito</td>\n",
       "    </tr>\n",
       "    <tr>\n",
       "      <th>1</th>\n",
       "      <td>569591653121597440</td>\n",
       "      <td>negative</td>\n",
       "      <td>1.0</td>\n",
       "      <td>Customer Service Issue</td>\n",
       "      <td>0.7255</td>\n",
       "      <td>American</td>\n",
       "      <td>NaN</td>\n",
       "      <td>kiabeveridge</td>\n",
       "      <td>NaN</td>\n",
       "      <td>0</td>\n",
       "      <td>@AmericanAir I used the \"call back\" feature wi...</td>\n",
       "      <td>NaN</td>\n",
       "      <td>2015-02-22 12:16:47 -0800</td>\n",
       "      <td>Chicago</td>\n",
       "      <td>Mountain Time (US &amp; Canada)</td>\n",
       "    </tr>\n",
       "    <tr>\n",
       "      <th>2</th>\n",
       "      <td>569599867716132864</td>\n",
       "      <td>positive</td>\n",
       "      <td>1.0</td>\n",
       "      <td>NaN</td>\n",
       "      <td>NaN</td>\n",
       "      <td>Virgin America</td>\n",
       "      <td>NaN</td>\n",
       "      <td>jessicajaymes</td>\n",
       "      <td>NaN</td>\n",
       "      <td>2</td>\n",
       "      <td>Always have it together!!! You're welcome! RT ...</td>\n",
       "      <td>[33.94652852, -118.40766257]</td>\n",
       "      <td>2015-02-22 12:49:25 -0800</td>\n",
       "      <td>hollywood, california</td>\n",
       "      <td>Pacific Time (US &amp; Canada)</td>\n",
       "    </tr>\n",
       "    <tr>\n",
       "      <th>3</th>\n",
       "      <td>569630837538361344</td>\n",
       "      <td>positive</td>\n",
       "      <td>0.6775</td>\n",
       "      <td>NaN</td>\n",
       "      <td>NaN</td>\n",
       "      <td>United</td>\n",
       "      <td>NaN</td>\n",
       "      <td>achoifitz</td>\n",
       "      <td>NaN</td>\n",
       "      <td>0</td>\n",
       "      <td>@united finally made it to rep, who solved my ...</td>\n",
       "      <td>NaN</td>\n",
       "      <td>2015-02-22 14:52:29 -0800</td>\n",
       "      <td>Europe - America</td>\n",
       "      <td>Central Time (US &amp; Canada)</td>\n",
       "    </tr>\n",
       "    <tr>\n",
       "      <th>4</th>\n",
       "      <td>568245558919503872</td>\n",
       "      <td>negative</td>\n",
       "      <td>1.0</td>\n",
       "      <td>Customer Service Issue</td>\n",
       "      <td>1.0</td>\n",
       "      <td>US Airways</td>\n",
       "      <td>NaN</td>\n",
       "      <td>bhardwaj_j</td>\n",
       "      <td>NaN</td>\n",
       "      <td>0</td>\n",
       "      <td>@USAirways : its just a very bad customer serv...</td>\n",
       "      <td>NaN</td>\n",
       "      <td>2015-02-18 19:07:53 -0800</td>\n",
       "      <td>NaN</td>\n",
       "      <td>NaN</td>\n",
       "    </tr>\n",
       "    <tr>\n",
       "      <th>...</th>\n",
       "      <td>...</td>\n",
       "      <td>...</td>\n",
       "      <td>...</td>\n",
       "      <td>...</td>\n",
       "      <td>...</td>\n",
       "      <td>...</td>\n",
       "      <td>...</td>\n",
       "      <td>...</td>\n",
       "      <td>...</td>\n",
       "      <td>...</td>\n",
       "      <td>...</td>\n",
       "      <td>...</td>\n",
       "      <td>...</td>\n",
       "      <td>...</td>\n",
       "      <td>...</td>\n",
       "    </tr>\n",
       "    <tr>\n",
       "      <th>1459</th>\n",
       "      <td>568450643175866368</td>\n",
       "      <td>negative</td>\n",
       "      <td>0.7021</td>\n",
       "      <td>Customer Service Issue</td>\n",
       "      <td>0.7021</td>\n",
       "      <td>Southwest</td>\n",
       "      <td>NaN</td>\n",
       "      <td>TMP8622</td>\n",
       "      <td>NaN</td>\n",
       "      <td>0</td>\n",
       "      <td>@SouthwestAir I already follow you and can't D...</td>\n",
       "      <td>NaN</td>\n",
       "      <td>2015-02-19 08:42:49 -0800</td>\n",
       "      <td>Tempe, AZ</td>\n",
       "      <td>Arizona</td>\n",
       "    </tr>\n",
       "    <tr>\n",
       "      <th>1460</th>\n",
       "      <td>568260084230455296</td>\n",
       "      <td>negative</td>\n",
       "      <td>1.0</td>\n",
       "      <td>Customer Service Issue</td>\n",
       "      <td>0.6848</td>\n",
       "      <td>United</td>\n",
       "      <td>NaN</td>\n",
       "      <td>Belendelcanto</td>\n",
       "      <td>NaN</td>\n",
       "      <td>0</td>\n",
       "      <td>@united its not the way to treat your customer...</td>\n",
       "      <td>NaN</td>\n",
       "      <td>2015-02-18 20:05:36 -0800</td>\n",
       "      <td>Seattle</td>\n",
       "      <td>Hawaii</td>\n",
       "    </tr>\n",
       "    <tr>\n",
       "      <th>1461</th>\n",
       "      <td>569964335038124033</td>\n",
       "      <td>negative</td>\n",
       "      <td>1.0</td>\n",
       "      <td>Customer Service Issue</td>\n",
       "      <td>0.657</td>\n",
       "      <td>American</td>\n",
       "      <td>NaN</td>\n",
       "      <td>aepleiss</td>\n",
       "      <td>NaN</td>\n",
       "      <td>0</td>\n",
       "      <td>@AmericanAir I don't believe it's acceptable t...</td>\n",
       "      <td>NaN</td>\n",
       "      <td>2015-02-23 12:57:41 -0800</td>\n",
       "      <td>NaN</td>\n",
       "      <td>NaN</td>\n",
       "    </tr>\n",
       "    <tr>\n",
       "      <th>1462</th>\n",
       "      <td>569208236487745536</td>\n",
       "      <td>negative</td>\n",
       "      <td>0.6765</td>\n",
       "      <td>Customer Service Issue</td>\n",
       "      <td>0.6765</td>\n",
       "      <td>Southwest</td>\n",
       "      <td>NaN</td>\n",
       "      <td>jaretgordon</td>\n",
       "      <td>NaN</td>\n",
       "      <td>0</td>\n",
       "      <td>@SouthwestAir have a prompt for consumers for ...</td>\n",
       "      <td>NaN</td>\n",
       "      <td>2015-02-21 10:53:13 -0800</td>\n",
       "      <td>NaN</td>\n",
       "      <td>Central Time (US &amp; Canada)</td>\n",
       "    </tr>\n",
       "    <tr>\n",
       "      <th>1463</th>\n",
       "      <td>569489032100614144</td>\n",
       "      <td>neutral</td>\n",
       "      <td>0.6416</td>\n",
       "      <td>NaN</td>\n",
       "      <td>0.0</td>\n",
       "      <td>United</td>\n",
       "      <td>NaN</td>\n",
       "      <td>anil_arca</td>\n",
       "      <td>NaN</td>\n",
       "      <td>0</td>\n",
       "      <td>@united I just sent to you.</td>\n",
       "      <td>NaN</td>\n",
       "      <td>2015-02-22 05:29:00 -0800</td>\n",
       "      <td>Virginia, USA</td>\n",
       "      <td>NaN</td>\n",
       "    </tr>\n",
       "  </tbody>\n",
       "</table>\n",
       "<p>1464 rows × 15 columns</p>\n",
       "</div>"
      ],
      "text/plain": [
       "                tweet_id airline_sentiment airline_sentiment_confidence   \n",
       "0     567729749087498240          negative                          1.0  \\\n",
       "1     569591653121597440          negative                          1.0   \n",
       "2     569599867716132864          positive                          1.0   \n",
       "3     569630837538361344          positive                       0.6775   \n",
       "4     568245558919503872          negative                          1.0   \n",
       "...                  ...               ...                          ...   \n",
       "1459  568450643175866368          negative                       0.7021   \n",
       "1460  568260084230455296          negative                          1.0   \n",
       "1461  569964335038124033          negative                          1.0   \n",
       "1462  569208236487745536          negative                       0.6765   \n",
       "1463  569489032100614144           neutral                       0.6416   \n",
       "\n",
       "              negativereason negativereason_confidence         airline   \n",
       "0               Lost Luggage                       1.0      US Airways  \\\n",
       "1     Customer Service Issue                    0.7255        American   \n",
       "2                        NaN                       NaN  Virgin America   \n",
       "3                        NaN                       NaN          United   \n",
       "4     Customer Service Issue                       1.0      US Airways   \n",
       "...                      ...                       ...             ...   \n",
       "1459  Customer Service Issue                    0.7021       Southwest   \n",
       "1460  Customer Service Issue                    0.6848          United   \n",
       "1461  Customer Service Issue                     0.657        American   \n",
       "1462  Customer Service Issue                    0.6765       Southwest   \n",
       "1463                     NaN                       0.0          United   \n",
       "\n",
       "     airline_sentiment_gold           name negativereason_gold retweet_count   \n",
       "0                       NaN     itsjustdoc                 NaN             0  \\\n",
       "1                       NaN   kiabeveridge                 NaN             0   \n",
       "2                       NaN  jessicajaymes                 NaN             2   \n",
       "3                       NaN      achoifitz                 NaN             0   \n",
       "4                       NaN     bhardwaj_j                 NaN             0   \n",
       "...                     ...            ...                 ...           ...   \n",
       "1459                    NaN        TMP8622                 NaN             0   \n",
       "1460                    NaN  Belendelcanto                 NaN             0   \n",
       "1461                    NaN       aepleiss                 NaN             0   \n",
       "1462                    NaN    jaretgordon                 NaN             0   \n",
       "1463                    NaN      anil_arca                 NaN             0   \n",
       "\n",
       "                                                   text   \n",
       "0     @USAirways I didn't even leave the airport and...  \\\n",
       "1     @AmericanAir I used the \"call back\" feature wi...   \n",
       "2     Always have it together!!! You're welcome! RT ...   \n",
       "3     @united finally made it to rep, who solved my ...   \n",
       "4     @USAirways : its just a very bad customer serv...   \n",
       "...                                                 ...   \n",
       "1459  @SouthwestAir I already follow you and can't D...   \n",
       "1460  @united its not the way to treat your customer...   \n",
       "1461  @AmericanAir I don't believe it's acceptable t...   \n",
       "1462  @SouthwestAir have a prompt for consumers for ...   \n",
       "1463                        @united I just sent to you.   \n",
       "\n",
       "                       tweet_coord              tweet_created   \n",
       "0                              NaN  2015-02-17 08:58:14 -0800  \\\n",
       "1                              NaN  2015-02-22 12:16:47 -0800   \n",
       "2     [33.94652852, -118.40766257]  2015-02-22 12:49:25 -0800   \n",
       "3                              NaN  2015-02-22 14:52:29 -0800   \n",
       "4                              NaN  2015-02-18 19:07:53 -0800   \n",
       "...                            ...                        ...   \n",
       "1459                           NaN  2015-02-19 08:42:49 -0800   \n",
       "1460                           NaN  2015-02-18 20:05:36 -0800   \n",
       "1461                           NaN  2015-02-23 12:57:41 -0800   \n",
       "1462                           NaN  2015-02-21 10:53:13 -0800   \n",
       "1463                           NaN  2015-02-22 05:29:00 -0800   \n",
       "\n",
       "             tweet_location                user_timezone  \n",
       "0                      Ohio                        Quito  \n",
       "1                   Chicago  Mountain Time (US & Canada)  \n",
       "2     hollywood, california   Pacific Time (US & Canada)  \n",
       "3          Europe - America   Central Time (US & Canada)  \n",
       "4                       NaN                          NaN  \n",
       "...                     ...                          ...  \n",
       "1459              Tempe, AZ                      Arizona  \n",
       "1460                Seattle                       Hawaii  \n",
       "1461                    NaN                          NaN  \n",
       "1462                    NaN   Central Time (US & Canada)  \n",
       "1463          Virginia, USA                          NaN  \n",
       "\n",
       "[1464 rows x 15 columns]"
      ]
     },
     "execution_count": 9,
     "metadata": {},
     "output_type": "execute_result"
    }
   ],
   "source": [
    "dev_df"
   ]
  },
  {
   "cell_type": "code",
   "execution_count": 10,
   "id": "cfaf54c6",
   "metadata": {},
   "outputs": [
    {
     "data": {
      "text/plain": [
       "(1464, 15)"
      ]
     },
     "execution_count": 10,
     "metadata": {},
     "output_type": "execute_result"
    }
   ],
   "source": [
    "dev_df.shape"
   ]
  },
  {
   "cell_type": "code",
   "execution_count": 11,
   "id": "7f0d5b3a",
   "metadata": {},
   "outputs": [],
   "source": [
    "predicted_polarity = dev_df.text.apply(lambda x: TextBlob(x).sentiment[0])"
   ]
  },
  {
   "cell_type": "code",
   "execution_count": 12,
   "id": "72ed0a30",
   "metadata": {},
   "outputs": [
    {
     "data": {
      "text/plain": [
       "0       0.000\n",
       "1      -0.150\n",
       "2       0.900\n",
       "3       0.000\n",
       "4      -0.910\n",
       "        ...  \n",
       "1459    0.000\n",
       "1460   -0.150\n",
       "1461    0.025\n",
       "1462    0.000\n",
       "1463    0.000\n",
       "Name: text, Length: 1464, dtype: float64"
      ]
     },
     "execution_count": 12,
     "metadata": {},
     "output_type": "execute_result"
    }
   ],
   "source": [
    "predicted_polarity"
   ]
  },
  {
   "cell_type": "code",
   "execution_count": 13,
   "id": "34ab2e1d",
   "metadata": {},
   "outputs": [
    {
     "data": {
      "text/plain": [
       "airline_sentiment\n",
       "negative    938\n",
       "neutral     305\n",
       "positive    221\n",
       "Name: count, dtype: int64"
      ]
     },
     "execution_count": 13,
     "metadata": {},
     "output_type": "execute_result"
    }
   ],
   "source": [
    "dev_df.airline_sentiment.value_counts()"
   ]
  },
  {
   "cell_type": "code",
   "execution_count": 14,
   "id": "b52e522a",
   "metadata": {},
   "outputs": [
    {
     "data": {
      "text/plain": [
       "count    1464.000000\n",
       "mean        0.040315\n",
       "std         0.323940\n",
       "min        -1.000000\n",
       "25%        -0.050000\n",
       "50%         0.000000\n",
       "75%         0.200000\n",
       "max         1.000000\n",
       "Name: text, dtype: float64"
      ]
     },
     "execution_count": 14,
     "metadata": {},
     "output_type": "execute_result"
    }
   ],
   "source": [
    "predicted_polarity.describe()"
   ]
  },
  {
   "cell_type": "code",
   "execution_count": 15,
   "id": "6dcb071d",
   "metadata": {},
   "outputs": [],
   "source": [
    "positive_cutoff = 0.2\n",
    "negative_cutoff = -0.05"
   ]
  },
  {
   "cell_type": "code",
   "execution_count": 16,
   "id": "f297d480",
   "metadata": {},
   "outputs": [],
   "source": [
    "def convert_polarity(polarity_score): \n",
    "    if polarity_score >= positive_cutoff:\n",
    "        return 2\n",
    "    elif polarity_score <= negative_cutoff:\n",
    "        return 1\n",
    "    else:\n",
    "        return 0\n",
    "    \n",
    "predicted_class = predicted_polarity.apply(lambda x: convert_polarity(x))"
   ]
  },
  {
   "cell_type": "code",
   "execution_count": 17,
   "id": "cf5261b4",
   "metadata": {},
   "outputs": [],
   "source": [
    "def convert_sentiment(category):\n",
    "    if category == \"positive\":\n",
    "        return 2\n",
    "    elif category ==\"neutral\":\n",
    "        return 1\n",
    "    else:\n",
    "        return 0\n",
    "    \n",
    "actual_class = dev_df.airline_sentiment.apply(lambda x: convert_sentiment(x))"
   ]
  },
  {
   "cell_type": "code",
   "execution_count": 18,
   "id": "53fe0a9e",
   "metadata": {},
   "outputs": [
    {
     "name": "stdout",
     "output_type": "stream",
     "text": [
      "              precision    recall  f1-score   support\n",
      "\n",
      "           0       0.61      0.48      0.54       938\n",
      "           1       0.08      0.09      0.08       305\n",
      "           2       0.39      0.65      0.49       221\n",
      "\n",
      "    accuracy                           0.42      1464\n",
      "   macro avg       0.36      0.41      0.37      1464\n",
      "weighted avg       0.47      0.42      0.44      1464\n",
      "\n"
     ]
    }
   ],
   "source": [
    "print(classification_report(actual_class, predicted_class))"
   ]
  },
  {
   "cell_type": "code",
   "execution_count": null,
   "id": "d4e2c064",
   "metadata": {},
   "outputs": [],
   "source": []
  }
 ],
 "metadata": {
  "kernelspec": {
   "display_name": "twitter_sentiment",
   "language": "python",
   "name": "twitter_sentiment"
  },
  "language_info": {
   "codemirror_mode": {
    "name": "ipython",
    "version": 3
   },
   "file_extension": ".py",
   "mimetype": "text/x-python",
   "name": "python",
   "nbconvert_exporter": "python",
   "pygments_lexer": "ipython3",
   "version": "3.9.12"
  }
 },
 "nbformat": 4,
 "nbformat_minor": 5
}
